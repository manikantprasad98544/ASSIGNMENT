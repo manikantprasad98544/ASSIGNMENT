{
 "cells": [
  {
   "cell_type": "markdown",
   "metadata": {},
   "source": [
    "# SORTING LIST AND FINDING OVERLAPING"
   ]
  },
  {
   "cell_type": "code",
   "execution_count": 6,
   "metadata": {},
   "outputs": [
    {
     "name": "stdout",
     "output_type": "stream",
     "text": [
      "SORTED LISTS\n",
      "['apple', 'nokia', 'oppo', 'redmi', 'sumsung']\n",
      "['asus', 'nokia', 'oneplus', 'realme', 'sumsung', 'vivo']\n",
      "\n",
      "OVERLAPPING PRESENT IN BOTH LISTS\n"
     ]
    },
    {
     "data": {
      "text/plain": [
       "['nokia', 'sumsung']"
      ]
     },
     "execution_count": 6,
     "metadata": {},
     "output_type": "execute_result"
    }
   ],
   "source": [
    "list_1=[\"sumsung\",\"apple\",\"nokia\",\"redmi\",\"oppo\"]\n",
    "list_2=[\"realme\",\"oneplus\",\"sumsung\",\"asus\",\"nokia\",\"vivo\"]\n",
    "print(\"SORTED LISTS\")\n",
    "print(sorted(list_1))\n",
    "print(sorted(list_2))\n",
    "print(\"\\nOVERLAPPING PRESENT IN BOTH LISTS\")\n",
    "list(set(list_1) & set(list_2))"
   ]
  },
  {
   "cell_type": "markdown",
   "metadata": {},
   "source": [
    "# RANGE WITH EVEN NUMBER STARTING FROM 20 TO 40 WITH STEPS OF 2"
   ]
  },
  {
   "cell_type": "code",
   "execution_count": 7,
   "metadata": {},
   "outputs": [
    {
     "name": "stdout",
     "output_type": "stream",
     "text": [
      "20\n",
      "22\n",
      "24\n",
      "26\n",
      "28\n",
      "30\n",
      "32\n",
      "34\n",
      "36\n",
      "38\n"
     ]
    }
   ],
   "source": [
    "for i in range(20,40,2):\n",
    "  print(i)"
   ]
  },
  {
   "cell_type": "code",
   "execution_count": null,
   "metadata": {},
   "outputs": [],
   "source": []
  }
 ],
 "metadata": {
  "kernelspec": {
   "display_name": "Python 3",
   "language": "python",
   "name": "python3"
  },
  "language_info": {
   "codemirror_mode": {
    "name": "ipython",
    "version": 3
   },
   "file_extension": ".py",
   "mimetype": "text/x-python",
   "name": "python",
   "nbconvert_exporter": "python",
   "pygments_lexer": "ipython3",
   "version": "3.7.6"
  }
 },
 "nbformat": 4,
 "nbformat_minor": 4
}
